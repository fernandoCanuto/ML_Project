{
 "cells": [
  {
   "cell_type": "markdown",
   "id": "cognitive-andrews",
   "metadata": {},
   "source": [
    "## Projeto Recomendação de Filmes"
   ]
  },
  {
   "cell_type": "markdown",
   "id": "automatic-celebrity",
   "metadata": {},
   "source": [
    "#### O que faremos?"
   ]
  },
  {
   "cell_type": "markdown",
   "id": "enhanced-confusion",
   "metadata": {},
   "source": [
    "Criaremos algoritimos de recomendadores de filmes para alguns cenários:\n",
    "- Com base nos filmes mais populares (para usuários novos na plataforma)\n",
    "- Com base em histórico de consumo do usuário\n",
    "- Com base em escolhas da rede de contatos do usuário.\n"
   ]
  },
  {
   "cell_type": "markdown",
   "id": "earned-voluntary",
   "metadata": {},
   "source": [
    "#### De onde consumiremos?"
   ]
  },
  {
   "cell_type": "markdown",
   "id": "fancy-arizona",
   "metadata": {},
   "source": [
    "Neste projeto, consumiremos bases de filmes disponibilizada pelo GroupLens, que é um grupo de pesquisa da universidade de Minnesota que possui publicações em diversas áreas de estudo.\n",
    "fontes:\n",
    "- https://grouplens.org/\n",
    "- https://movielens.org/"
   ]
  },
  {
   "cell_type": "markdown",
   "id": "parliamentary-cattle",
   "metadata": {},
   "source": [
    "#### Como dividiremos o projeto?"
   ]
  },
  {
   "cell_type": "markdown",
   "id": "ranging-matter",
   "metadata": {},
   "source": [
    "Dividiremos o projeto da seguinte forma:\n",
    "- Import das ferramentas que utilizaremos\n",
    "- Ingestão dos dados\n",
    "- Tratamento dos dados\n",
    "    - Verificação de Nnlos\n",
    "    - Verificação de valores duplicados\n",
    "    - Merge das tabelas\n",
    "    - Remoção de outliers\n",
    "- Identificação de variáveis categóricas e modelagem do DataFrame\n",
    "- Clusterização utilizando o KMeans\n",
    "- Desenvolvimento do modelo\n"
   ]
  },
  {
   "cell_type": "markdown",
   "id": "sustainable-network",
   "metadata": {},
   "source": [
    "---------------------------------------------------------------------"
   ]
  },
  {
   "cell_type": "markdown",
   "id": "played-arbitration",
   "metadata": {},
   "source": [
    "###### Import das ferramentas"
   ]
  },
  {
   "cell_type": "code",
   "execution_count": 2,
   "id": "fifteen-second",
   "metadata": {},
   "outputs": [],
   "source": [
    "import pandas as pd\n",
    "import numpy as np\n",
    "import os\n",
    "os.chdir(\"D:\\Desktop\\estudos\\RecomendadorFilmes\\ml-latest-small\")"
   ]
  },
  {
   "cell_type": "markdown",
   "id": "delayed-auckland",
   "metadata": {},
   "source": [
    "###### Ingerindo as bases"
   ]
  },
  {
   "cell_type": "code",
   "execution_count": 159,
   "id": "painted-trader",
   "metadata": {},
   "outputs": [],
   "source": [
    "filmes = pd.read_csv(\"movies.csv\")\n",
    "notas = pd.read_csv(\"ratings.csv\")"
   ]
  },
  {
   "cell_type": "markdown",
   "id": "alternate-omaha",
   "metadata": {},
   "source": [
    "###### Verificando a estrutura das bases"
   ]
  },
  {
   "cell_type": "code",
   "execution_count": 7,
   "id": "military-portsmouth",
   "metadata": {},
   "outputs": [
    {
     "data": {
      "text/html": [
       "<div>\n",
       "<style scoped>\n",
       "    .dataframe tbody tr th:only-of-type {\n",
       "        vertical-align: middle;\n",
       "    }\n",
       "\n",
       "    .dataframe tbody tr th {\n",
       "        vertical-align: top;\n",
       "    }\n",
       "\n",
       "    .dataframe thead th {\n",
       "        text-align: right;\n",
       "    }\n",
       "</style>\n",
       "<table border=\"1\" class=\"dataframe\">\n",
       "  <thead>\n",
       "    <tr style=\"text-align: right;\">\n",
       "      <th></th>\n",
       "      <th>movieId</th>\n",
       "      <th>title</th>\n",
       "      <th>genres</th>\n",
       "    </tr>\n",
       "  </thead>\n",
       "  <tbody>\n",
       "    <tr>\n",
       "      <th>0</th>\n",
       "      <td>1</td>\n",
       "      <td>Toy Story (1995)</td>\n",
       "      <td>Adventure|Animation|Children|Comedy|Fantasy</td>\n",
       "    </tr>\n",
       "    <tr>\n",
       "      <th>1</th>\n",
       "      <td>2</td>\n",
       "      <td>Jumanji (1995)</td>\n",
       "      <td>Adventure|Children|Fantasy</td>\n",
       "    </tr>\n",
       "    <tr>\n",
       "      <th>2</th>\n",
       "      <td>3</td>\n",
       "      <td>Grumpier Old Men (1995)</td>\n",
       "      <td>Comedy|Romance</td>\n",
       "    </tr>\n",
       "    <tr>\n",
       "      <th>3</th>\n",
       "      <td>4</td>\n",
       "      <td>Waiting to Exhale (1995)</td>\n",
       "      <td>Comedy|Drama|Romance</td>\n",
       "    </tr>\n",
       "    <tr>\n",
       "      <th>4</th>\n",
       "      <td>5</td>\n",
       "      <td>Father of the Bride Part II (1995)</td>\n",
       "      <td>Comedy</td>\n",
       "    </tr>\n",
       "  </tbody>\n",
       "</table>\n",
       "</div>"
      ],
      "text/plain": [
       "   movieId                               title  \\\n",
       "0        1                    Toy Story (1995)   \n",
       "1        2                      Jumanji (1995)   \n",
       "2        3             Grumpier Old Men (1995)   \n",
       "3        4            Waiting to Exhale (1995)   \n",
       "4        5  Father of the Bride Part II (1995)   \n",
       "\n",
       "                                        genres  \n",
       "0  Adventure|Animation|Children|Comedy|Fantasy  \n",
       "1                   Adventure|Children|Fantasy  \n",
       "2                               Comedy|Romance  \n",
       "3                         Comedy|Drama|Romance  \n",
       "4                                       Comedy  "
      ]
     },
     "execution_count": 7,
     "metadata": {},
     "output_type": "execute_result"
    }
   ],
   "source": [
    "filmes.head()"
   ]
  },
  {
   "cell_type": "code",
   "execution_count": 10,
   "id": "gross-establishment",
   "metadata": {},
   "outputs": [
    {
     "data": {
      "text/html": [
       "<div>\n",
       "<style scoped>\n",
       "    .dataframe tbody tr th:only-of-type {\n",
       "        vertical-align: middle;\n",
       "    }\n",
       "\n",
       "    .dataframe tbody tr th {\n",
       "        vertical-align: top;\n",
       "    }\n",
       "\n",
       "    .dataframe thead th {\n",
       "        text-align: right;\n",
       "    }\n",
       "</style>\n",
       "<table border=\"1\" class=\"dataframe\">\n",
       "  <thead>\n",
       "    <tr style=\"text-align: right;\">\n",
       "      <th></th>\n",
       "      <th>userId</th>\n",
       "      <th>movieId</th>\n",
       "      <th>rating</th>\n",
       "      <th>timestamp</th>\n",
       "    </tr>\n",
       "  </thead>\n",
       "  <tbody>\n",
       "    <tr>\n",
       "      <th>0</th>\n",
       "      <td>1</td>\n",
       "      <td>1</td>\n",
       "      <td>4.0</td>\n",
       "      <td>964982703</td>\n",
       "    </tr>\n",
       "    <tr>\n",
       "      <th>1</th>\n",
       "      <td>1</td>\n",
       "      <td>3</td>\n",
       "      <td>4.0</td>\n",
       "      <td>964981247</td>\n",
       "    </tr>\n",
       "    <tr>\n",
       "      <th>2</th>\n",
       "      <td>1</td>\n",
       "      <td>6</td>\n",
       "      <td>4.0</td>\n",
       "      <td>964982224</td>\n",
       "    </tr>\n",
       "    <tr>\n",
       "      <th>3</th>\n",
       "      <td>1</td>\n",
       "      <td>47</td>\n",
       "      <td>5.0</td>\n",
       "      <td>964983815</td>\n",
       "    </tr>\n",
       "    <tr>\n",
       "      <th>4</th>\n",
       "      <td>1</td>\n",
       "      <td>50</td>\n",
       "      <td>5.0</td>\n",
       "      <td>964982931</td>\n",
       "    </tr>\n",
       "  </tbody>\n",
       "</table>\n",
       "</div>"
      ],
      "text/plain": [
       "   userId  movieId  rating  timestamp\n",
       "0       1        1     4.0  964982703\n",
       "1       1        3     4.0  964981247\n",
       "2       1        6     4.0  964982224\n",
       "3       1       47     5.0  964983815\n",
       "4       1       50     5.0  964982931"
      ]
     },
     "execution_count": 10,
     "metadata": {},
     "output_type": "execute_result"
    }
   ],
   "source": [
    "notas.head()"
   ]
  },
  {
   "cell_type": "markdown",
   "id": "helpful-pregnancy",
   "metadata": {},
   "source": [
    "###### Verificando valores nulos"
   ]
  },
  {
   "cell_type": "code",
   "execution_count": 12,
   "id": "collected-invention",
   "metadata": {},
   "outputs": [
    {
     "data": {
      "text/plain": [
       "movieId    0\n",
       "title      0\n",
       "genres     0\n",
       "dtype: int64"
      ]
     },
     "execution_count": 12,
     "metadata": {},
     "output_type": "execute_result"
    }
   ],
   "source": [
    "filmes.isnull().sum()"
   ]
  },
  {
   "cell_type": "code",
   "execution_count": 13,
   "id": "elect-carnival",
   "metadata": {},
   "outputs": [
    {
     "data": {
      "text/plain": [
       "userId       0\n",
       "movieId      0\n",
       "rating       0\n",
       "timestamp    0\n",
       "dtype: int64"
      ]
     },
     "execution_count": 13,
     "metadata": {},
     "output_type": "execute_result"
    }
   ],
   "source": [
    "notas.isnull().sum()"
   ]
  },
  {
   "cell_type": "markdown",
   "id": "printable-deadline",
   "metadata": {},
   "source": [
    "###### Verificando e Removendo filmes duplicados"
   ]
  },
  {
   "cell_type": "code",
   "execution_count": 138,
   "id": "colored-marathon",
   "metadata": {},
   "outputs": [
    {
     "data": {
      "text/plain": [
       "Eros (2004)                                     2\n",
       "Confessions of a Dangerous Mind (2002)          2\n",
       "War of the Worlds (2005)                        2\n",
       "Emma (1996)                                     2\n",
       "Saturn 3 (1980)                                 2\n",
       "                                               ..\n",
       "Wrath of the Titans (2012)                      1\n",
       "Foxfire (1996)                                  1\n",
       "Mod Squad, The (1999)                           1\n",
       "Fay Grim (2006)                                 1\n",
       "Scooby-Doo! Curse of the Lake Monster (2010)    1\n",
       "Name: title, Length: 9737, dtype: int64"
      ]
     },
     "execution_count": 138,
     "metadata": {},
     "output_type": "execute_result"
    }
   ],
   "source": [
    "filmes.title.value_counts()"
   ]
  },
  {
   "cell_type": "code",
   "execution_count": 139,
   "id": "located-reducing",
   "metadata": {},
   "outputs": [],
   "source": [
    "\n",
    "filmes_duplicados = filmes[filmes.duplicated(subset=\"title\")][\"movieId\"].tolist()\n"
   ]
  },
  {
   "cell_type": "code",
   "execution_count": 160,
   "id": "criminal-sapphire",
   "metadata": {
    "scrolled": false
   },
   "outputs": [],
   "source": [
    "filmes_duplicados = filmes[filmes.duplicated(subset=\"title\")][\"movieId\"].tolist()\n",
    "filmes = filmes.query(f'movieId not in {filmes_duplicados}')"
   ]
  },
  {
   "cell_type": "code",
   "execution_count": 141,
   "id": "empty-circumstances",
   "metadata": {},
   "outputs": [
    {
     "data": {
      "text/plain": [
       "Elephant (2003)                                 1\n",
       "Band Wagon, The (1953)                          1\n",
       "Rum Diary, The (2011)                           1\n",
       "Love Song for Bobby Long, A (2004)              1\n",
       "Dirty Dozen, The (1967)                         1\n",
       "                                               ..\n",
       "Wrath of the Titans (2012)                      1\n",
       "Foxfire (1996)                                  1\n",
       "Mod Squad, The (1999)                           1\n",
       "Fay Grim (2006)                                 1\n",
       "Scooby-Doo! Curse of the Lake Monster (2010)    1\n",
       "Name: title, Length: 9737, dtype: int64"
      ]
     },
     "execution_count": 141,
     "metadata": {},
     "output_type": "execute_result"
    }
   ],
   "source": [
    "filmes.title.value_counts()"
   ]
  },
  {
   "cell_type": "markdown",
   "id": "warming-plastic",
   "metadata": {},
   "source": [
    "###### Merge das tabelas"
   ]
  },
  {
   "cell_type": "code",
   "execution_count": 142,
   "id": "expensive-hebrew",
   "metadata": {},
   "outputs": [],
   "source": [
    "filmes_notas = notas.merge(filmes, how='left', on='movieId')"
   ]
  },
  {
   "cell_type": "code",
   "execution_count": 116,
   "id": "genuine-integer",
   "metadata": {},
   "outputs": [
    {
     "data": {
      "text/html": [
       "<div>\n",
       "<style scoped>\n",
       "    .dataframe tbody tr th:only-of-type {\n",
       "        vertical-align: middle;\n",
       "    }\n",
       "\n",
       "    .dataframe tbody tr th {\n",
       "        vertical-align: top;\n",
       "    }\n",
       "\n",
       "    .dataframe thead th {\n",
       "        text-align: right;\n",
       "    }\n",
       "</style>\n",
       "<table border=\"1\" class=\"dataframe\">\n",
       "  <thead>\n",
       "    <tr style=\"text-align: right;\">\n",
       "      <th></th>\n",
       "      <th>userId</th>\n",
       "      <th>movieId</th>\n",
       "      <th>rating</th>\n",
       "      <th>timestamp</th>\n",
       "      <th>title</th>\n",
       "      <th>genres</th>\n",
       "    </tr>\n",
       "  </thead>\n",
       "  <tbody>\n",
       "    <tr>\n",
       "      <th>0</th>\n",
       "      <td>1</td>\n",
       "      <td>1</td>\n",
       "      <td>4.0</td>\n",
       "      <td>964982703</td>\n",
       "      <td>Toy Story (1995)</td>\n",
       "      <td>Adventure|Animation|Children|Comedy|Fantasy</td>\n",
       "    </tr>\n",
       "    <tr>\n",
       "      <th>1</th>\n",
       "      <td>1</td>\n",
       "      <td>3</td>\n",
       "      <td>4.0</td>\n",
       "      <td>964981247</td>\n",
       "      <td>Grumpier Old Men (1995)</td>\n",
       "      <td>Comedy|Romance</td>\n",
       "    </tr>\n",
       "    <tr>\n",
       "      <th>2</th>\n",
       "      <td>1</td>\n",
       "      <td>6</td>\n",
       "      <td>4.0</td>\n",
       "      <td>964982224</td>\n",
       "      <td>Heat (1995)</td>\n",
       "      <td>Action|Crime|Thriller</td>\n",
       "    </tr>\n",
       "    <tr>\n",
       "      <th>3</th>\n",
       "      <td>1</td>\n",
       "      <td>47</td>\n",
       "      <td>5.0</td>\n",
       "      <td>964983815</td>\n",
       "      <td>Seven (a.k.a. Se7en) (1995)</td>\n",
       "      <td>Mystery|Thriller</td>\n",
       "    </tr>\n",
       "    <tr>\n",
       "      <th>4</th>\n",
       "      <td>1</td>\n",
       "      <td>50</td>\n",
       "      <td>5.0</td>\n",
       "      <td>964982931</td>\n",
       "      <td>Usual Suspects, The (1995)</td>\n",
       "      <td>Crime|Mystery|Thriller</td>\n",
       "    </tr>\n",
       "  </tbody>\n",
       "</table>\n",
       "</div>"
      ],
      "text/plain": [
       "   userId  movieId  rating  timestamp                        title  \\\n",
       "0       1        1     4.0  964982703             Toy Story (1995)   \n",
       "1       1        3     4.0  964981247      Grumpier Old Men (1995)   \n",
       "2       1        6     4.0  964982224                  Heat (1995)   \n",
       "3       1       47     5.0  964983815  Seven (a.k.a. Se7en) (1995)   \n",
       "4       1       50     5.0  964982931   Usual Suspects, The (1995)   \n",
       "\n",
       "                                        genres  \n",
       "0  Adventure|Animation|Children|Comedy|Fantasy  \n",
       "1                               Comedy|Romance  \n",
       "2                        Action|Crime|Thriller  \n",
       "3                             Mystery|Thriller  \n",
       "4                       Crime|Mystery|Thriller  "
      ]
     },
     "execution_count": 116,
     "metadata": {},
     "output_type": "execute_result"
    }
   ],
   "source": [
    "filmes_notas.head()"
   ]
  },
  {
   "cell_type": "markdown",
   "id": "ethical-sperm",
   "metadata": {},
   "source": [
    "Verificando os filmes com maiores avaliações"
   ]
  },
  {
   "cell_type": "code",
   "execution_count": 126,
   "id": "exempt-costa",
   "metadata": {},
   "outputs": [
    {
     "data": {
      "text/plain": [
       "title\n",
       "Gena the Crocodile (1969)              5.0\n",
       "True Stories (1986)                    5.0\n",
       "Cosmic Scrat-tastrophe (2015)          5.0\n",
       "Love and Pigeons (1985)                5.0\n",
       "Red Sorghum (Hong gao liang) (1987)    5.0\n",
       "Name: rating, dtype: float64"
      ]
     },
     "execution_count": 126,
     "metadata": {},
     "output_type": "execute_result"
    }
   ],
   "source": [
    "filmes_notas.groupby('title')['rating'].mean().sort_values(ascending=False).head()"
   ]
  },
  {
   "cell_type": "markdown",
   "id": "modern-growing",
   "metadata": {},
   "source": [
    "Verificando quantos votos tiveram"
   ]
  },
  {
   "cell_type": "code",
   "execution_count": 127,
   "id": "likely-characteristic",
   "metadata": {},
   "outputs": [
    {
     "data": {
      "text/html": [
       "<div>\n",
       "<style scoped>\n",
       "    .dataframe tbody tr th:only-of-type {\n",
       "        vertical-align: middle;\n",
       "    }\n",
       "\n",
       "    .dataframe tbody tr th {\n",
       "        vertical-align: top;\n",
       "    }\n",
       "\n",
       "    .dataframe thead th {\n",
       "        text-align: right;\n",
       "    }\n",
       "</style>\n",
       "<table border=\"1\" class=\"dataframe\">\n",
       "  <thead>\n",
       "    <tr style=\"text-align: right;\">\n",
       "      <th></th>\n",
       "      <th>userId</th>\n",
       "      <th>movieId</th>\n",
       "      <th>rating</th>\n",
       "      <th>timestamp</th>\n",
       "      <th>title</th>\n",
       "      <th>genres</th>\n",
       "    </tr>\n",
       "  </thead>\n",
       "  <tbody>\n",
       "    <tr>\n",
       "      <th>16929</th>\n",
       "      <td>105</td>\n",
       "      <td>175293</td>\n",
       "      <td>5.0</td>\n",
       "      <td>1526208082</td>\n",
       "      <td>Gena the Crocodile (1969)</td>\n",
       "      <td>Animation|Children</td>\n",
       "    </tr>\n",
       "  </tbody>\n",
       "</table>\n",
       "</div>"
      ],
      "text/plain": [
       "       userId  movieId  rating   timestamp                      title  \\\n",
       "16929     105   175293     5.0  1526208082  Gena the Crocodile (1969)   \n",
       "\n",
       "                   genres  \n",
       "16929  Animation|Children  "
      ]
     },
     "execution_count": 127,
     "metadata": {},
     "output_type": "execute_result"
    }
   ],
   "source": [
    "filmes_notas[filmes_notas.title == 'Gena the Crocodile (1969)']"
   ]
  },
  {
   "cell_type": "code",
   "execution_count": 144,
   "id": "horizontal-joseph",
   "metadata": {},
   "outputs": [],
   "source": [
    "media = filmes_notas.groupby('movieId')['rating'].mean()\n",
    "media['movieId'] = filmes['movieId']"
   ]
  },
  {
   "cell_type": "code",
   "execution_count": 161,
   "id": "unlike-horror",
   "metadata": {},
   "outputs": [],
   "source": [
    "filmes = filmes.merge(media, on='movieId')"
   ]
  },
  {
   "cell_type": "code",
   "execution_count": 162,
   "id": "higher-economics",
   "metadata": {},
   "outputs": [],
   "source": [
    "filmes.columns = ['movieId', 'title', 'genres', 'average_rating']"
   ]
  },
  {
   "cell_type": "code",
   "execution_count": 163,
   "id": "acoustic-works",
   "metadata": {},
   "outputs": [
    {
     "data": {
      "text/html": [
       "<div>\n",
       "<style scoped>\n",
       "    .dataframe tbody tr th:only-of-type {\n",
       "        vertical-align: middle;\n",
       "    }\n",
       "\n",
       "    .dataframe tbody tr th {\n",
       "        vertical-align: top;\n",
       "    }\n",
       "\n",
       "    .dataframe thead th {\n",
       "        text-align: right;\n",
       "    }\n",
       "</style>\n",
       "<table border=\"1\" class=\"dataframe\">\n",
       "  <thead>\n",
       "    <tr style=\"text-align: right;\">\n",
       "      <th></th>\n",
       "      <th>movieId</th>\n",
       "      <th>title</th>\n",
       "      <th>genres</th>\n",
       "      <th>average_rating</th>\n",
       "    </tr>\n",
       "  </thead>\n",
       "  <tbody>\n",
       "    <tr>\n",
       "      <th>0</th>\n",
       "      <td>1</td>\n",
       "      <td>Toy Story (1995)</td>\n",
       "      <td>Adventure|Animation|Children|Comedy|Fantasy</td>\n",
       "      <td>3.92093</td>\n",
       "    </tr>\n",
       "    <tr>\n",
       "      <th>1</th>\n",
       "      <td>2</td>\n",
       "      <td>Jumanji (1995)</td>\n",
       "      <td>Adventure|Children|Fantasy</td>\n",
       "      <td>3.431818</td>\n",
       "    </tr>\n",
       "    <tr>\n",
       "      <th>2</th>\n",
       "      <td>3</td>\n",
       "      <td>Grumpier Old Men (1995)</td>\n",
       "      <td>Comedy|Romance</td>\n",
       "      <td>3.259615</td>\n",
       "    </tr>\n",
       "    <tr>\n",
       "      <th>3</th>\n",
       "      <td>4</td>\n",
       "      <td>Waiting to Exhale (1995)</td>\n",
       "      <td>Comedy|Drama|Romance</td>\n",
       "      <td>2.357143</td>\n",
       "    </tr>\n",
       "    <tr>\n",
       "      <th>4</th>\n",
       "      <td>5</td>\n",
       "      <td>Father of the Bride Part II (1995)</td>\n",
       "      <td>Comedy</td>\n",
       "      <td>3.071429</td>\n",
       "    </tr>\n",
       "  </tbody>\n",
       "</table>\n",
       "</div>"
      ],
      "text/plain": [
       "  movieId                               title  \\\n",
       "0       1                    Toy Story (1995)   \n",
       "1       2                      Jumanji (1995)   \n",
       "2       3             Grumpier Old Men (1995)   \n",
       "3       4            Waiting to Exhale (1995)   \n",
       "4       5  Father of the Bride Part II (1995)   \n",
       "\n",
       "                                        genres average_rating  \n",
       "0  Adventure|Animation|Children|Comedy|Fantasy        3.92093  \n",
       "1                   Adventure|Children|Fantasy       3.431818  \n",
       "2                               Comedy|Romance       3.259615  \n",
       "3                         Comedy|Drama|Romance       2.357143  \n",
       "4                                       Comedy       3.071429  "
      ]
     },
     "execution_count": 163,
     "metadata": {},
     "output_type": "execute_result"
    }
   ],
   "source": [
    "filmes.head()"
   ]
  },
  {
   "cell_type": "code",
   "execution_count": 151,
   "id": "subjective-secondary",
   "metadata": {},
   "outputs": [
    {
     "data": {
      "text/plain": [
       "count    9719.000000\n",
       "mean       10.374524\n",
       "std        22.405799\n",
       "min         1.000000\n",
       "25%         1.000000\n",
       "50%         3.000000\n",
       "75%         9.000000\n",
       "max       329.000000\n",
       "dtype: float64"
      ]
     },
     "execution_count": 151,
     "metadata": {},
     "output_type": "execute_result"
    }
   ],
   "source": [
    "filmes_notas.groupby('title').size().describe()"
   ]
  },
  {
   "cell_type": "code",
   "execution_count": 186,
   "id": "spiritual-occasion",
   "metadata": {},
   "outputs": [],
   "source": [
    "qtde_notas = filmes_notas.groupby('movieId').size()\n",
    "qtde_notas.columns = ['movieId','qtde_votos']\n",
    "qtde_notas = pd.DataFrame(qtde_notas)\n",
    "qtde_notas.columns = ['qtde_notas']"
   ]
  },
  {
   "cell_type": "code",
   "execution_count": 176,
   "id": "requested-recorder",
   "metadata": {},
   "outputs": [
    {
     "data": {
      "text/plain": [
       "Index(['movieId', 'title', 'genres', 'average_rating'], dtype='object')"
      ]
     },
     "execution_count": 176,
     "metadata": {},
     "output_type": "execute_result"
    }
   ],
   "source": [
    "filmes.columns"
   ]
  },
  {
   "cell_type": "code",
   "execution_count": 187,
   "id": "supposed-brazilian",
   "metadata": {},
   "outputs": [],
   "source": [
    "filmes = filmes.merge(qtde_notas, how='left', on='movieId')"
   ]
  },
  {
   "cell_type": "code",
   "execution_count": 192,
   "id": "neither-writer",
   "metadata": {},
   "outputs": [
    {
     "data": {
      "text/html": [
       "<div>\n",
       "<style scoped>\n",
       "    .dataframe tbody tr th:only-of-type {\n",
       "        vertical-align: middle;\n",
       "    }\n",
       "\n",
       "    .dataframe tbody tr th {\n",
       "        vertical-align: top;\n",
       "    }\n",
       "\n",
       "    .dataframe thead th {\n",
       "        text-align: right;\n",
       "    }\n",
       "</style>\n",
       "<table border=\"1\" class=\"dataframe\">\n",
       "  <thead>\n",
       "    <tr style=\"text-align: right;\">\n",
       "      <th></th>\n",
       "      <th>movieId</th>\n",
       "      <th>title</th>\n",
       "      <th>genres</th>\n",
       "      <th>average_rating</th>\n",
       "      <th>qtde_notas</th>\n",
       "    </tr>\n",
       "  </thead>\n",
       "  <tbody>\n",
       "    <tr>\n",
       "      <th>0</th>\n",
       "      <td>1</td>\n",
       "      <td>Toy Story (1995)</td>\n",
       "      <td>Adventure|Animation|Children|Comedy|Fantasy</td>\n",
       "      <td>3.92093</td>\n",
       "      <td>215</td>\n",
       "    </tr>\n",
       "    <tr>\n",
       "      <th>1</th>\n",
       "      <td>2</td>\n",
       "      <td>Jumanji (1995)</td>\n",
       "      <td>Adventure|Children|Fantasy</td>\n",
       "      <td>3.431818</td>\n",
       "      <td>110</td>\n",
       "    </tr>\n",
       "    <tr>\n",
       "      <th>2</th>\n",
       "      <td>3</td>\n",
       "      <td>Grumpier Old Men (1995)</td>\n",
       "      <td>Comedy|Romance</td>\n",
       "      <td>3.259615</td>\n",
       "      <td>52</td>\n",
       "    </tr>\n",
       "    <tr>\n",
       "      <th>3</th>\n",
       "      <td>4</td>\n",
       "      <td>Waiting to Exhale (1995)</td>\n",
       "      <td>Comedy|Drama|Romance</td>\n",
       "      <td>2.357143</td>\n",
       "      <td>7</td>\n",
       "    </tr>\n",
       "    <tr>\n",
       "      <th>4</th>\n",
       "      <td>5</td>\n",
       "      <td>Father of the Bride Part II (1995)</td>\n",
       "      <td>Comedy</td>\n",
       "      <td>3.071429</td>\n",
       "      <td>49</td>\n",
       "    </tr>\n",
       "    <tr>\n",
       "      <th>...</th>\n",
       "      <td>...</td>\n",
       "      <td>...</td>\n",
       "      <td>...</td>\n",
       "      <td>...</td>\n",
       "      <td>...</td>\n",
       "    </tr>\n",
       "    <tr>\n",
       "      <th>9714</th>\n",
       "      <td>193581</td>\n",
       "      <td>Black Butler: Book of the Atlantic (2017)</td>\n",
       "      <td>Action|Animation|Comedy|Fantasy</td>\n",
       "      <td>4.0</td>\n",
       "      <td>1</td>\n",
       "    </tr>\n",
       "    <tr>\n",
       "      <th>9715</th>\n",
       "      <td>193583</td>\n",
       "      <td>No Game No Life: Zero (2017)</td>\n",
       "      <td>Animation|Comedy|Fantasy</td>\n",
       "      <td>3.5</td>\n",
       "      <td>1</td>\n",
       "    </tr>\n",
       "    <tr>\n",
       "      <th>9716</th>\n",
       "      <td>193585</td>\n",
       "      <td>Flint (2017)</td>\n",
       "      <td>Drama</td>\n",
       "      <td>3.5</td>\n",
       "      <td>1</td>\n",
       "    </tr>\n",
       "    <tr>\n",
       "      <th>9717</th>\n",
       "      <td>193587</td>\n",
       "      <td>Bungo Stray Dogs: Dead Apple (2018)</td>\n",
       "      <td>Action|Animation</td>\n",
       "      <td>3.5</td>\n",
       "      <td>1</td>\n",
       "    </tr>\n",
       "    <tr>\n",
       "      <th>9718</th>\n",
       "      <td>193609</td>\n",
       "      <td>Andrew Dice Clay: Dice Rules (1991)</td>\n",
       "      <td>Comedy</td>\n",
       "      <td>4.0</td>\n",
       "      <td>1</td>\n",
       "    </tr>\n",
       "  </tbody>\n",
       "</table>\n",
       "<p>9719 rows × 5 columns</p>\n",
       "</div>"
      ],
      "text/plain": [
       "     movieId                                      title  \\\n",
       "0          1                           Toy Story (1995)   \n",
       "1          2                             Jumanji (1995)   \n",
       "2          3                    Grumpier Old Men (1995)   \n",
       "3          4                   Waiting to Exhale (1995)   \n",
       "4          5         Father of the Bride Part II (1995)   \n",
       "...      ...                                        ...   \n",
       "9714  193581  Black Butler: Book of the Atlantic (2017)   \n",
       "9715  193583               No Game No Life: Zero (2017)   \n",
       "9716  193585                               Flint (2017)   \n",
       "9717  193587        Bungo Stray Dogs: Dead Apple (2018)   \n",
       "9718  193609        Andrew Dice Clay: Dice Rules (1991)   \n",
       "\n",
       "                                           genres average_rating  qtde_notas  \n",
       "0     Adventure|Animation|Children|Comedy|Fantasy        3.92093         215  \n",
       "1                      Adventure|Children|Fantasy       3.431818         110  \n",
       "2                                  Comedy|Romance       3.259615          52  \n",
       "3                            Comedy|Drama|Romance       2.357143           7  \n",
       "4                                          Comedy       3.071429          49  \n",
       "...                                           ...            ...         ...  \n",
       "9714              Action|Animation|Comedy|Fantasy            4.0           1  \n",
       "9715                     Animation|Comedy|Fantasy            3.5           1  \n",
       "9716                                        Drama            3.5           1  \n",
       "9717                             Action|Animation            3.5           1  \n",
       "9718                                       Comedy            4.0           1  \n",
       "\n",
       "[9719 rows x 5 columns]"
      ]
     },
     "execution_count": 192,
     "metadata": {},
     "output_type": "execute_result"
    }
   ],
   "source": [
    "filmes"
   ]
  },
  {
   "cell_type": "code",
   "execution_count": 193,
   "id": "computational-canyon",
   "metadata": {},
   "outputs": [],
   "source": [
    "filmes_notas = notas.merge(filmes, on='movieId')"
   ]
  },
  {
   "cell_type": "markdown",
   "id": "balanced-amsterdam",
   "metadata": {},
   "source": [
    "#### Top 5 Filmes mais avaliados"
   ]
  },
  {
   "cell_type": "code",
   "execution_count": 206,
   "id": "statistical-jefferson",
   "metadata": {},
   "outputs": [
    {
     "data": {
      "text/html": [
       "<div>\n",
       "<style scoped>\n",
       "    .dataframe tbody tr th:only-of-type {\n",
       "        vertical-align: middle;\n",
       "    }\n",
       "\n",
       "    .dataframe tbody tr th {\n",
       "        vertical-align: top;\n",
       "    }\n",
       "\n",
       "    .dataframe thead th {\n",
       "        text-align: right;\n",
       "    }\n",
       "</style>\n",
       "<table border=\"1\" class=\"dataframe\">\n",
       "  <thead>\n",
       "    <tr style=\"text-align: right;\">\n",
       "      <th></th>\n",
       "      <th>movieId</th>\n",
       "      <th>title</th>\n",
       "      <th>genres</th>\n",
       "      <th>average_rating</th>\n",
       "      <th>qtde_notas</th>\n",
       "    </tr>\n",
       "  </thead>\n",
       "  <tbody>\n",
       "    <tr>\n",
       "      <th>314</th>\n",
       "      <td>356</td>\n",
       "      <td>Forrest Gump (1994)</td>\n",
       "      <td>Comedy|Drama|Romance|War</td>\n",
       "      <td>4.164134</td>\n",
       "      <td>329</td>\n",
       "    </tr>\n",
       "    <tr>\n",
       "      <th>277</th>\n",
       "      <td>318</td>\n",
       "      <td>Shawshank Redemption, The (1994)</td>\n",
       "      <td>Crime|Drama</td>\n",
       "      <td>4.429022</td>\n",
       "      <td>317</td>\n",
       "    </tr>\n",
       "    <tr>\n",
       "      <th>257</th>\n",
       "      <td>296</td>\n",
       "      <td>Pulp Fiction (1994)</td>\n",
       "      <td>Comedy|Crime|Drama|Thriller</td>\n",
       "      <td>4.197068</td>\n",
       "      <td>307</td>\n",
       "    </tr>\n",
       "    <tr>\n",
       "      <th>510</th>\n",
       "      <td>593</td>\n",
       "      <td>Silence of the Lambs, The (1991)</td>\n",
       "      <td>Crime|Horror|Thriller</td>\n",
       "      <td>4.16129</td>\n",
       "      <td>279</td>\n",
       "    </tr>\n",
       "    <tr>\n",
       "      <th>1938</th>\n",
       "      <td>2571</td>\n",
       "      <td>Matrix, The (1999)</td>\n",
       "      <td>Action|Sci-Fi|Thriller</td>\n",
       "      <td>4.192446</td>\n",
       "      <td>278</td>\n",
       "    </tr>\n",
       "  </tbody>\n",
       "</table>\n",
       "</div>"
      ],
      "text/plain": [
       "     movieId                             title                       genres  \\\n",
       "314      356               Forrest Gump (1994)     Comedy|Drama|Romance|War   \n",
       "277      318  Shawshank Redemption, The (1994)                  Crime|Drama   \n",
       "257      296               Pulp Fiction (1994)  Comedy|Crime|Drama|Thriller   \n",
       "510      593  Silence of the Lambs, The (1991)        Crime|Horror|Thriller   \n",
       "1938    2571                Matrix, The (1999)       Action|Sci-Fi|Thriller   \n",
       "\n",
       "     average_rating  qtde_notas  \n",
       "314        4.164134         329  \n",
       "277        4.429022         317  \n",
       "257        4.197068         307  \n",
       "510         4.16129         279  \n",
       "1938       4.192446         278  "
      ]
     },
     "execution_count": 206,
     "metadata": {},
     "output_type": "execute_result"
    }
   ],
   "source": [
    "filmes.sort_values(by='qtde_notas', ascending=False).head(5)"
   ]
  },
  {
   "cell_type": "markdown",
   "id": "stretch-aging",
   "metadata": {},
   "source": [
    "## Clusterizando"
   ]
  },
  {
   "cell_type": "code",
   "execution_count": 208,
   "id": "tutorial-north",
   "metadata": {},
   "outputs": [],
   "source": [
    "filmes = pd.read_csv(\"movies.csv\")\n",
    "notas = pd.read_csv(\"ratings.csv\")"
   ]
  },
  {
   "cell_type": "code",
   "execution_count": 209,
   "id": "specific-pledge",
   "metadata": {},
   "outputs": [],
   "source": [
    "filmes_duplicados = filmes[filmes.duplicated(subset=\"title\")][\"movieId\"].tolist()\n",
    "filmes = filmes.query(f'movieId not in {filmes_duplicados}')"
   ]
  },
  {
   "cell_type": "code",
   "execution_count": 211,
   "id": "capital-translator",
   "metadata": {},
   "outputs": [
    {
     "data": {
      "text/plain": [
       "title\n",
       "'71 (2014)                                   1\n",
       "Particle Fever (2013)                        1\n",
       "Parent Trap, The (1961)                      1\n",
       "Parent Trap, The (1998)                      1\n",
       "Parental Guidance (2012)                     1\n",
       "                                            ..\n",
       "Friends & Lovers (1999)                      1\n",
       "Friends with Benefits (2011)                 1\n",
       "Friends with Kids (2011)                     1\n",
       "Friends with Money (2006)                    1\n",
       "À nous la liberté (Freedom for Us) (1931)    1\n",
       "Length: 9737, dtype: int64"
      ]
     },
     "execution_count": 211,
     "metadata": {},
     "output_type": "execute_result"
    }
   ],
   "source": [
    "filmes.value_counts('title')"
   ]
  },
  {
   "cell_type": "code",
   "execution_count": 214,
   "id": "noble-draft",
   "metadata": {},
   "outputs": [
    {
     "data": {
      "text/plain": [
       "0       [Adventure, Animation, Children, Comedy, Fantasy]\n",
       "1                          [Adventure, Children, Fantasy]\n",
       "2                                       [Comedy, Romance]\n",
       "3                                [Comedy, Drama, Romance]\n",
       "4                                                [Comedy]\n",
       "                              ...                        \n",
       "9737                 [Action, Animation, Comedy, Fantasy]\n",
       "9738                         [Animation, Comedy, Fantasy]\n",
       "9739                                              [Drama]\n",
       "9740                                  [Action, Animation]\n",
       "9741                                             [Comedy]\n",
       "Name: genres, Length: 9737, dtype: object"
      ]
     },
     "execution_count": 214,
     "metadata": {},
     "output_type": "execute_result"
    }
   ],
   "source": [
    "filmes['genres'].str.split('|')"
   ]
  },
  {
   "cell_type": "markdown",
   "id": "constitutional-nightmare",
   "metadata": {},
   "source": [
    "##### Dando um 'Split' nos generos (dados categóricos) dos filmes e inputando nas colunas"
   ]
  },
  {
   "cell_type": "code",
   "execution_count": 216,
   "id": "exterior-figure",
   "metadata": {},
   "outputs": [],
   "source": [
    "generos = filmes.genres.str.get_dummies('|')"
   ]
  },
  {
   "cell_type": "code",
   "execution_count": 217,
   "id": "rolled-silence",
   "metadata": {},
   "outputs": [],
   "source": [
    "generos['movieId'] = filmes.movieId"
   ]
  },
  {
   "cell_type": "code",
   "execution_count": 219,
   "id": "aerial-apparatus",
   "metadata": {},
   "outputs": [],
   "source": [
    "filmes = filmes.merge(generos, on='movieId')"
   ]
  },
  {
   "cell_type": "code",
   "execution_count": 220,
   "id": "specified-greene",
   "metadata": {},
   "outputs": [
    {
     "data": {
      "text/html": [
       "<div>\n",
       "<style scoped>\n",
       "    .dataframe tbody tr th:only-of-type {\n",
       "        vertical-align: middle;\n",
       "    }\n",
       "\n",
       "    .dataframe tbody tr th {\n",
       "        vertical-align: top;\n",
       "    }\n",
       "\n",
       "    .dataframe thead th {\n",
       "        text-align: right;\n",
       "    }\n",
       "</style>\n",
       "<table border=\"1\" class=\"dataframe\">\n",
       "  <thead>\n",
       "    <tr style=\"text-align: right;\">\n",
       "      <th></th>\n",
       "      <th>movieId</th>\n",
       "      <th>title</th>\n",
       "      <th>genres</th>\n",
       "      <th>(no genres listed)</th>\n",
       "      <th>Action</th>\n",
       "      <th>Adventure</th>\n",
       "      <th>Animation</th>\n",
       "      <th>Children</th>\n",
       "      <th>Comedy</th>\n",
       "      <th>Crime</th>\n",
       "      <th>...</th>\n",
       "      <th>Film-Noir</th>\n",
       "      <th>Horror</th>\n",
       "      <th>IMAX</th>\n",
       "      <th>Musical</th>\n",
       "      <th>Mystery</th>\n",
       "      <th>Romance</th>\n",
       "      <th>Sci-Fi</th>\n",
       "      <th>Thriller</th>\n",
       "      <th>War</th>\n",
       "      <th>Western</th>\n",
       "    </tr>\n",
       "  </thead>\n",
       "  <tbody>\n",
       "    <tr>\n",
       "      <th>0</th>\n",
       "      <td>1</td>\n",
       "      <td>Toy Story (1995)</td>\n",
       "      <td>Adventure|Animation|Children|Comedy|Fantasy</td>\n",
       "      <td>0</td>\n",
       "      <td>0</td>\n",
       "      <td>1</td>\n",
       "      <td>1</td>\n",
       "      <td>1</td>\n",
       "      <td>1</td>\n",
       "      <td>0</td>\n",
       "      <td>...</td>\n",
       "      <td>0</td>\n",
       "      <td>0</td>\n",
       "      <td>0</td>\n",
       "      <td>0</td>\n",
       "      <td>0</td>\n",
       "      <td>0</td>\n",
       "      <td>0</td>\n",
       "      <td>0</td>\n",
       "      <td>0</td>\n",
       "      <td>0</td>\n",
       "    </tr>\n",
       "    <tr>\n",
       "      <th>1</th>\n",
       "      <td>2</td>\n",
       "      <td>Jumanji (1995)</td>\n",
       "      <td>Adventure|Children|Fantasy</td>\n",
       "      <td>0</td>\n",
       "      <td>0</td>\n",
       "      <td>1</td>\n",
       "      <td>0</td>\n",
       "      <td>1</td>\n",
       "      <td>0</td>\n",
       "      <td>0</td>\n",
       "      <td>...</td>\n",
       "      <td>0</td>\n",
       "      <td>0</td>\n",
       "      <td>0</td>\n",
       "      <td>0</td>\n",
       "      <td>0</td>\n",
       "      <td>0</td>\n",
       "      <td>0</td>\n",
       "      <td>0</td>\n",
       "      <td>0</td>\n",
       "      <td>0</td>\n",
       "    </tr>\n",
       "    <tr>\n",
       "      <th>2</th>\n",
       "      <td>3</td>\n",
       "      <td>Grumpier Old Men (1995)</td>\n",
       "      <td>Comedy|Romance</td>\n",
       "      <td>0</td>\n",
       "      <td>0</td>\n",
       "      <td>0</td>\n",
       "      <td>0</td>\n",
       "      <td>0</td>\n",
       "      <td>1</td>\n",
       "      <td>0</td>\n",
       "      <td>...</td>\n",
       "      <td>0</td>\n",
       "      <td>0</td>\n",
       "      <td>0</td>\n",
       "      <td>0</td>\n",
       "      <td>0</td>\n",
       "      <td>1</td>\n",
       "      <td>0</td>\n",
       "      <td>0</td>\n",
       "      <td>0</td>\n",
       "      <td>0</td>\n",
       "    </tr>\n",
       "    <tr>\n",
       "      <th>3</th>\n",
       "      <td>4</td>\n",
       "      <td>Waiting to Exhale (1995)</td>\n",
       "      <td>Comedy|Drama|Romance</td>\n",
       "      <td>0</td>\n",
       "      <td>0</td>\n",
       "      <td>0</td>\n",
       "      <td>0</td>\n",
       "      <td>0</td>\n",
       "      <td>1</td>\n",
       "      <td>0</td>\n",
       "      <td>...</td>\n",
       "      <td>0</td>\n",
       "      <td>0</td>\n",
       "      <td>0</td>\n",
       "      <td>0</td>\n",
       "      <td>0</td>\n",
       "      <td>1</td>\n",
       "      <td>0</td>\n",
       "      <td>0</td>\n",
       "      <td>0</td>\n",
       "      <td>0</td>\n",
       "    </tr>\n",
       "    <tr>\n",
       "      <th>4</th>\n",
       "      <td>5</td>\n",
       "      <td>Father of the Bride Part II (1995)</td>\n",
       "      <td>Comedy</td>\n",
       "      <td>0</td>\n",
       "      <td>0</td>\n",
       "      <td>0</td>\n",
       "      <td>0</td>\n",
       "      <td>0</td>\n",
       "      <td>1</td>\n",
       "      <td>0</td>\n",
       "      <td>...</td>\n",
       "      <td>0</td>\n",
       "      <td>0</td>\n",
       "      <td>0</td>\n",
       "      <td>0</td>\n",
       "      <td>0</td>\n",
       "      <td>0</td>\n",
       "      <td>0</td>\n",
       "      <td>0</td>\n",
       "      <td>0</td>\n",
       "      <td>0</td>\n",
       "    </tr>\n",
       "    <tr>\n",
       "      <th>...</th>\n",
       "      <td>...</td>\n",
       "      <td>...</td>\n",
       "      <td>...</td>\n",
       "      <td>...</td>\n",
       "      <td>...</td>\n",
       "      <td>...</td>\n",
       "      <td>...</td>\n",
       "      <td>...</td>\n",
       "      <td>...</td>\n",
       "      <td>...</td>\n",
       "      <td>...</td>\n",
       "      <td>...</td>\n",
       "      <td>...</td>\n",
       "      <td>...</td>\n",
       "      <td>...</td>\n",
       "      <td>...</td>\n",
       "      <td>...</td>\n",
       "      <td>...</td>\n",
       "      <td>...</td>\n",
       "      <td>...</td>\n",
       "      <td>...</td>\n",
       "    </tr>\n",
       "    <tr>\n",
       "      <th>9732</th>\n",
       "      <td>193581</td>\n",
       "      <td>Black Butler: Book of the Atlantic (2017)</td>\n",
       "      <td>Action|Animation|Comedy|Fantasy</td>\n",
       "      <td>0</td>\n",
       "      <td>1</td>\n",
       "      <td>0</td>\n",
       "      <td>1</td>\n",
       "      <td>0</td>\n",
       "      <td>1</td>\n",
       "      <td>0</td>\n",
       "      <td>...</td>\n",
       "      <td>0</td>\n",
       "      <td>0</td>\n",
       "      <td>0</td>\n",
       "      <td>0</td>\n",
       "      <td>0</td>\n",
       "      <td>0</td>\n",
       "      <td>0</td>\n",
       "      <td>0</td>\n",
       "      <td>0</td>\n",
       "      <td>0</td>\n",
       "    </tr>\n",
       "    <tr>\n",
       "      <th>9733</th>\n",
       "      <td>193583</td>\n",
       "      <td>No Game No Life: Zero (2017)</td>\n",
       "      <td>Animation|Comedy|Fantasy</td>\n",
       "      <td>0</td>\n",
       "      <td>0</td>\n",
       "      <td>0</td>\n",
       "      <td>1</td>\n",
       "      <td>0</td>\n",
       "      <td>1</td>\n",
       "      <td>0</td>\n",
       "      <td>...</td>\n",
       "      <td>0</td>\n",
       "      <td>0</td>\n",
       "      <td>0</td>\n",
       "      <td>0</td>\n",
       "      <td>0</td>\n",
       "      <td>0</td>\n",
       "      <td>0</td>\n",
       "      <td>0</td>\n",
       "      <td>0</td>\n",
       "      <td>0</td>\n",
       "    </tr>\n",
       "    <tr>\n",
       "      <th>9734</th>\n",
       "      <td>193585</td>\n",
       "      <td>Flint (2017)</td>\n",
       "      <td>Drama</td>\n",
       "      <td>0</td>\n",
       "      <td>0</td>\n",
       "      <td>0</td>\n",
       "      <td>0</td>\n",
       "      <td>0</td>\n",
       "      <td>0</td>\n",
       "      <td>0</td>\n",
       "      <td>...</td>\n",
       "      <td>0</td>\n",
       "      <td>0</td>\n",
       "      <td>0</td>\n",
       "      <td>0</td>\n",
       "      <td>0</td>\n",
       "      <td>0</td>\n",
       "      <td>0</td>\n",
       "      <td>0</td>\n",
       "      <td>0</td>\n",
       "      <td>0</td>\n",
       "    </tr>\n",
       "    <tr>\n",
       "      <th>9735</th>\n",
       "      <td>193587</td>\n",
       "      <td>Bungo Stray Dogs: Dead Apple (2018)</td>\n",
       "      <td>Action|Animation</td>\n",
       "      <td>0</td>\n",
       "      <td>1</td>\n",
       "      <td>0</td>\n",
       "      <td>1</td>\n",
       "      <td>0</td>\n",
       "      <td>0</td>\n",
       "      <td>0</td>\n",
       "      <td>...</td>\n",
       "      <td>0</td>\n",
       "      <td>0</td>\n",
       "      <td>0</td>\n",
       "      <td>0</td>\n",
       "      <td>0</td>\n",
       "      <td>0</td>\n",
       "      <td>0</td>\n",
       "      <td>0</td>\n",
       "      <td>0</td>\n",
       "      <td>0</td>\n",
       "    </tr>\n",
       "    <tr>\n",
       "      <th>9736</th>\n",
       "      <td>193609</td>\n",
       "      <td>Andrew Dice Clay: Dice Rules (1991)</td>\n",
       "      <td>Comedy</td>\n",
       "      <td>0</td>\n",
       "      <td>0</td>\n",
       "      <td>0</td>\n",
       "      <td>0</td>\n",
       "      <td>0</td>\n",
       "      <td>1</td>\n",
       "      <td>0</td>\n",
       "      <td>...</td>\n",
       "      <td>0</td>\n",
       "      <td>0</td>\n",
       "      <td>0</td>\n",
       "      <td>0</td>\n",
       "      <td>0</td>\n",
       "      <td>0</td>\n",
       "      <td>0</td>\n",
       "      <td>0</td>\n",
       "      <td>0</td>\n",
       "      <td>0</td>\n",
       "    </tr>\n",
       "  </tbody>\n",
       "</table>\n",
       "<p>9737 rows × 23 columns</p>\n",
       "</div>"
      ],
      "text/plain": [
       "      movieId                                      title  \\\n",
       "0           1                           Toy Story (1995)   \n",
       "1           2                             Jumanji (1995)   \n",
       "2           3                    Grumpier Old Men (1995)   \n",
       "3           4                   Waiting to Exhale (1995)   \n",
       "4           5         Father of the Bride Part II (1995)   \n",
       "...       ...                                        ...   \n",
       "9732   193581  Black Butler: Book of the Atlantic (2017)   \n",
       "9733   193583               No Game No Life: Zero (2017)   \n",
       "9734   193585                               Flint (2017)   \n",
       "9735   193587        Bungo Stray Dogs: Dead Apple (2018)   \n",
       "9736   193609        Andrew Dice Clay: Dice Rules (1991)   \n",
       "\n",
       "                                           genres  (no genres listed)  Action  \\\n",
       "0     Adventure|Animation|Children|Comedy|Fantasy                   0       0   \n",
       "1                      Adventure|Children|Fantasy                   0       0   \n",
       "2                                  Comedy|Romance                   0       0   \n",
       "3                            Comedy|Drama|Romance                   0       0   \n",
       "4                                          Comedy                   0       0   \n",
       "...                                           ...                 ...     ...   \n",
       "9732              Action|Animation|Comedy|Fantasy                   0       1   \n",
       "9733                     Animation|Comedy|Fantasy                   0       0   \n",
       "9734                                        Drama                   0       0   \n",
       "9735                             Action|Animation                   0       1   \n",
       "9736                                       Comedy                   0       0   \n",
       "\n",
       "      Adventure  Animation  Children  Comedy  Crime  ...  Film-Noir  Horror  \\\n",
       "0             1          1         1       1      0  ...          0       0   \n",
       "1             1          0         1       0      0  ...          0       0   \n",
       "2             0          0         0       1      0  ...          0       0   \n",
       "3             0          0         0       1      0  ...          0       0   \n",
       "4             0          0         0       1      0  ...          0       0   \n",
       "...         ...        ...       ...     ...    ...  ...        ...     ...   \n",
       "9732          0          1         0       1      0  ...          0       0   \n",
       "9733          0          1         0       1      0  ...          0       0   \n",
       "9734          0          0         0       0      0  ...          0       0   \n",
       "9735          0          1         0       0      0  ...          0       0   \n",
       "9736          0          0         0       1      0  ...          0       0   \n",
       "\n",
       "      IMAX  Musical  Mystery  Romance  Sci-Fi  Thriller  War  Western  \n",
       "0        0        0        0        0       0         0    0        0  \n",
       "1        0        0        0        0       0         0    0        0  \n",
       "2        0        0        0        1       0         0    0        0  \n",
       "3        0        0        0        1       0         0    0        0  \n",
       "4        0        0        0        0       0         0    0        0  \n",
       "...    ...      ...      ...      ...     ...       ...  ...      ...  \n",
       "9732     0        0        0        0       0         0    0        0  \n",
       "9733     0        0        0        0       0         0    0        0  \n",
       "9734     0        0        0        0       0         0    0        0  \n",
       "9735     0        0        0        0       0         0    0        0  \n",
       "9736     0        0        0        0       0         0    0        0  \n",
       "\n",
       "[9737 rows x 23 columns]"
      ]
     },
     "execution_count": 220,
     "metadata": {},
     "output_type": "execute_result"
    }
   ],
   "source": [
    "filmes"
   ]
  },
  {
   "cell_type": "code",
   "execution_count": null,
   "id": "convenient-contest",
   "metadata": {},
   "outputs": [],
   "source": []
  }
 ],
 "metadata": {
  "kernelspec": {
   "display_name": "Python 3",
   "language": "python",
   "name": "python3"
  },
  "language_info": {
   "codemirror_mode": {
    "name": "ipython",
    "version": 3
   },
   "file_extension": ".py",
   "mimetype": "text/x-python",
   "name": "python",
   "nbconvert_exporter": "python",
   "pygments_lexer": "ipython3",
   "version": "3.9.2"
  }
 },
 "nbformat": 4,
 "nbformat_minor": 5
}
